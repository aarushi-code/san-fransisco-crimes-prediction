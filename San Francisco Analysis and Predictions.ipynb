{
 "cells": [
  {
   "cell_type": "code",
   "execution_count": null,
   "metadata": {},
   "outputs": [],
   "source": [
    "!pip install squarify"
   ]
  },
  {
   "cell_type": "code",
   "execution_count": null,
   "metadata": {},
   "outputs": [],
   "source": [
    "import numpy as np \n",
    "import pandas as pd \n",
    "\n",
    "# for visualizations\n",
    "import matplotlib.pyplot as plt\n",
    "import seaborn as sns\n",
    "import folium\n",
    "import squarify\n",
    "\n",
    "# for providing path\n",
    "import os\n",
    "print(os.listdir(\"../input\"))\n"
   ]
  },
  {
   "cell_type": "code",
   "execution_count": null,
   "metadata": {},
   "outputs": [],
   "source": [
    "data = pd.read_csv('../input/Police_Department_Incidents_-_Previous_Year__2016_.csv')\n",
    "\n",
    "# check the shape of the data\n",
    "data.shape\n",
    "\n"
   ]
  },
  {
   "cell_type": "code",
   "execution_count": null,
   "metadata": {},
   "outputs": [],
   "source": [
    "data.head()"
   ]
  },
  {
   "cell_type": "code",
   "execution_count": null,
   "metadata": {},
   "outputs": [],
   "source": [
    "data.IncidntNum.plot(kind='hist')"
   ]
  },
  {
   "cell_type": "code",
   "execution_count": null,
   "metadata": {},
   "outputs": [],
   "source": [
    "data.describe()"
   ]
  },
  {
   "cell_type": "code",
   "execution_count": null,
   "metadata": {},
   "outputs": [],
   "source": [
    "data.isnull().sum()"
   ]
  },
  {
   "cell_type": "code",
   "execution_count": null,
   "metadata": {},
   "outputs": [],
   "source": [
    "data['PdDistrict'].fillna(data['PdDistrict'].mode()[0], inplace = True)\n",
    "\n",
    "data.isnull().any().any()\n"
   ]
  },
  {
   "cell_type": "code",
   "execution_count": null,
   "metadata": {},
   "outputs": [],
   "source": [
    "plt.rcParams['figure.figsize'] = (20, 9)\n",
    "plt.style.use('dark_background')\n",
    "\n",
    "sns.countplot(data['Category'], palette = 'gnuplot')\n",
    "\n",
    "plt.title('Major Crimes in Sanfrancisco', fontweight = 30, fontsize = 20)\n",
    "plt.xticks(rotation = 90)\n",
    "plt.show()"
   ]
  },
  {
   "cell_type": "code",
   "execution_count": null,
   "metadata": {},
   "outputs": [],
   "source": [
    "data.Category.value_counts().plot(kind='bar')"
   ]
  },
  {
   "cell_type": "code",
   "execution_count": null,
   "metadata": {},
   "outputs": [],
   "source": [
    "# Regions with count of crimes\n",
    "\n",
    "plt.rcParams['figure.figsize'] = (20, 9)\n",
    "plt.style.use('seaborn')\n",
    "\n",
    "color = plt.cm.spring(np.linspace(0, 1, 15))\n",
    "data['PdDistrict'].value_counts().plot.bar(color = color, figsize = (15, 10))\n",
    "\n",
    "plt.title('District with Most Crime',fontsize = 30)\n",
    "\n",
    "plt.xticks(rotation = 90)\n",
    "plt.show()"
   ]
  },
  {
   "cell_type": "code",
   "execution_count": null,
   "metadata": {},
   "outputs": [],
   "source": [
    "# Regions with count of crimes\n",
    "\n",
    "plt.rcParams['figure.figsize'] = (20, 9)\n",
    "plt.style.use('seaborn')\n",
    "\n",
    "color = plt.cm.ocean(np.linspace(0, 1, 15))\n",
    "data['Address'].value_counts().head(15).plot.bar(color = color, figsize = (15, 10))\n",
    "\n",
    "plt.title('Top 15 Regions in Crime',fontsize = 20)\n",
    "\n",
    "plt.xticks(rotation = 90)\n",
    "plt.show()"
   ]
  },
  {
   "cell_type": "code",
   "execution_count": null,
   "metadata": {},
   "outputs": [],
   "source": [
    "# Regions with count of crimes\n",
    "\n",
    "plt.style.use('seaborn')\n",
    "\n",
    "\n",
    "data['DayOfWeek'].value_counts().head(15).plot.pie(figsize = (15, 8), explode = (0.1, 0.1, 0.1, 0.1, 0.1, 0.1, 0.1))\n",
    "\n",
    "plt.title('Crime count on each day',fontsize = 20)\n",
    "\n",
    "plt.xticks(rotation = 90)\n",
    "plt.show()"
   ]
  },
  {
   "cell_type": "code",
   "execution_count": null,
   "metadata": {},
   "outputs": [],
   "source": [
    "# Regions with count of crimes\n",
    "\n",
    "plt.style.use('seaborn')\n",
    "\n",
    "color = plt.cm.winter(np.linspace(0, 10, 20))\n",
    "data['Resolution'].value_counts().plot.bar(color = color, figsize = (15, 8))\n",
    "\n",
    "plt.title('Resolutions for Crime',fontsize = 20)\n",
    "plt.xticks(rotation = 90)\n",
    "plt.show()"
   ]
  },
  {
   "cell_type": "code",
   "execution_count": null,
   "metadata": {},
   "outputs": [],
   "source": [
    "data['Date'] = pd.to_datetime(data['Date'])\n",
    "\n",
    "data['Month'] = data['Date'].dt.month\n",
    "\n",
    "plt.style.use('fivethirtyeight')\n",
    "plt.rcParams['figure.figsize'] = (15, 8)\n",
    "\n",
    "sns.countplot(data['Month'], palette = 'autumn',)\n",
    "plt.title('Crimes in each Months', fontsize = 20)\n",
    "\n",
    "plt.show()"
   ]
  },
  {
   "cell_type": "code",
   "execution_count": null,
   "metadata": {},
   "outputs": [],
   "source": [
    "# checking the time at which crime occurs mostly\n",
    "\n",
    "import warnings\n",
    "warnings.filterwarnings('ignore')\n",
    "\n",
    "color = plt.cm.twilight(np.linspace(0, 5, 100))\n",
    "data['Time'].value_counts().head(20).plot.bar(color = color, figsize = (15, 9))\n",
    "\n",
    "plt.title('Distribution of crime over the day', fontsize = 20)\n",
    "plt.show()"
   ]
  },
  {
   "cell_type": "code",
   "execution_count": null,
   "metadata": {},
   "outputs": [],
   "source": [
    "df = pd.crosstab(data['Category'], data['PdDistrict'])\n",
    "color = plt.cm.Greys(np.linspace(0, 1, 10))\n",
    "\n",
    "df.div(df.sum(1).astype(float), axis = 0).plot.bar(stacked = True, color = color, figsize = (18, 12))\n",
    "plt.title('District vs Category of Crime', fontweight = 30, fontsize = 20)\n",
    "\n",
    "plt.xticks(rotation = 90)\n",
    "plt.show()"
   ]
  },
  {
   "cell_type": "code",
   "execution_count": null,
   "metadata": {},
   "outputs": [],
   "source": [
    "t = data.PdDistrict.value_counts()\n",
    "\n",
    "table = pd.DataFrame(data=t.values, index=t.index, columns=['Count'])\n",
    "table = table.reindex([\"CENTRAL\", \"NORTHERN\", \"PARK\", \"SOUTHERN\", \"MISSION\", \"TENDERLOIN\", \"RICHMOND\", \"TARAVAL\", \"INGLESIDE\", \"BAYVIEW\"])\n",
    "\n",
    "table = table.reset_index()\n",
    "table.rename({'index': 'Neighborhood'}, axis='columns', inplace=True)\n",
    "\n",
    "table"
   ]
  },
  {
   "cell_type": "code",
   "execution_count": null,
   "metadata": {},
   "outputs": [],
   "source": [
    "gjson = r'https://cocl.us/sanfran_geojson'\n",
    "sf_map = folium.Map(location = [37.77, -122.42], zoom_start = 12)"
   ]
  },
  {
   "cell_type": "code",
   "execution_count": null,
   "metadata": {},
   "outputs": [],
   "source": [
    "#generate map\n",
    "sf_map.choropleth(\n",
    "    geo_data=gjson,\n",
    "    data=table,\n",
    "    columns=['Neighborhood', 'Count'],\n",
    "    key_on='feature.properties.DISTRICT',\n",
    "    fill_color='YlOrRd', \n",
    "    fill_opacity=0.7, \n",
    "    line_opacity=0.2,\n",
    "    legend_name='Crime Rate in San Francisco'\n",
    ")\n",
    "\n",
    "sf_map"
   ]
  },
  {
   "cell_type": "code",
   "execution_count": null,
   "metadata": {},
   "outputs": [],
   "source": []
  },
  {
   "cell_type": "code",
   "execution_count": null,
   "metadata": {},
   "outputs": [],
   "source": []
  },
  {
   "cell_type": "code",
   "execution_count": null,
   "metadata": {},
   "outputs": [],
   "source": []
  }
 ],
 "metadata": {
  "kernelspec": {
   "display_name": "Python 3",
   "language": "python",
   "name": "python3"
  },
  "language_info": {
   "codemirror_mode": {
    "name": "ipython",
    "version": 3
   },
   "file_extension": ".py",
   "mimetype": "text/x-python",
   "name": "python",
   "nbconvert_exporter": "python",
   "pygments_lexer": "ipython3",
   "version": "3.7.6"
  }
 },
 "nbformat": 4,
 "nbformat_minor": 4
}
